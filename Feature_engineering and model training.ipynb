{
 "cells": [
  {
   "cell_type": "markdown",
   "id": "4437a980",
   "metadata": {},
   "source": [
    "# Data Pre-Processing"
   ]
  },
  {
   "cell_type": "markdown",
   "id": "74b4d7e0",
   "metadata": {},
   "source": [
    "#### Import Packages and CSV"
   ]
  },
  {
   "cell_type": "code",
   "execution_count": 68,
   "id": "5530cc59",
   "metadata": {},
   "outputs": [
    {
     "name": "stdout",
     "output_type": "stream",
     "text": [
      "(75083, 11)\n"
     ]
    }
   ],
   "source": [
    "import pandas as pd\n",
    "import numpy as np\n",
    "import matplotlib.pyplot as plt\n",
    "import seaborn as sns\n",
    "import warnings\n",
    "warnings.filterwarnings(\"ignore\")\n",
    "# Create Dataframe\n",
    "df = pd.read_csv('Data/jfk_weather_cleaned.csv')\n",
    "# Print shape of dataset\n",
    "print(df.shape)"
   ]
  },
  {
   "cell_type": "markdown",
   "id": "c27265bd",
   "metadata": {},
   "source": [
    "## Data Cleaning"
   ]
  },
  {
   "cell_type": "markdown",
   "id": "dbad805a",
   "metadata": {},
   "source": [
    "### Handling Missing values"
   ]
  },
  {
   "cell_type": "markdown",
   "id": "0a0c1c0d",
   "metadata": {},
   "source": [
    "* Handling Missing values \n",
    "* Handling Duplicates\n",
    "* Check data type\n",
    "* Understand the dataset"
   ]
  },
  {
   "cell_type": "markdown",
   "id": "40b4a428",
   "metadata": {},
   "source": [
    "#### Check Null Values"
   ]
  },
  {
   "cell_type": "markdown",
   "id": "b35c055d",
   "metadata": {},
   "source": [
    "**What does NaN mean?**\n",
    "\n",
    "**Ans:** Missing Values in a DataFrame\n",
    "\n",
    "**Why might a value be missing?** \n",
    "\n",
    "**Ans:** When considering the potential impact of the missing data on the Dataset, it is important to consider the underlying reasons for why the data are missing\n",
    "Missing data are of three categories:\n",
    "* Missing completely at random (MCAR)\n",
    "* Missing at random (MAR).\n",
    "* Missing not at random (MNAR). \n",
    "\n",
    "Here it is MCAR type of missing values in dataset which are Missing completely at Random. \n",
    "\n",
    "When we make this assumption, we are assuming the missing data is completely unrelated to the other information in the data."
   ]
  },
  {
   "cell_type": "code",
   "execution_count": 69,
   "id": "2b94aa8f",
   "metadata": {},
   "outputs": [
    {
     "name": "stdout",
     "output_type": "stream",
     "text": [
      "features which has null values are : []\n"
     ]
    }
   ],
   "source": [
    "##these are the features with nan value\n",
    "features_with_na=[features for features in df.columns if df[features].isnull().sum()>=1]\n",
    "print(\"features which has null values are : %s\" % features_with_na)\n",
    "for feature in features_with_na:\n",
    "    print(feature,np.round(df[feature].isnull().mean()*100,5), '% missing values')"
   ]
  },
  {
   "cell_type": "code",
   "execution_count": 70,
   "id": "14bb0277",
   "metadata": {},
   "outputs": [],
   "source": [
    "# numeric values - if null values are present - you have impute those  null values with mean or median \n",
    "\n",
    "# univariate analysis - you are getting outliers are present - median \n",
    "\n",
    "# no outliers are present - mean "
   ]
  },
  {
   "cell_type": "markdown",
   "id": "37bb041c",
   "metadata": {},
   "source": [
    "**We can see there is no columns with null values.**"
   ]
  },
  {
   "cell_type": "markdown",
   "id": "76eafe12",
   "metadata": {},
   "source": [
    "### 3.2 Other Data Cleaning steps"
   ]
  },
  {
   "cell_type": "markdown",
   "id": "471fd48f",
   "metadata": {},
   "source": [
    "**Handling Duplicates**"
   ]
  },
  {
   "cell_type": "code",
   "execution_count": 71,
   "id": "d8fa17e0",
   "metadata": {},
   "outputs": [
    {
     "data": {
      "text/plain": [
       "np.int64(0)"
      ]
     },
     "execution_count": 71,
     "metadata": {},
     "output_type": "execute_result"
    }
   ],
   "source": [
    "df.duplicated().sum()"
   ]
  },
  {
   "cell_type": "markdown",
   "id": "5cf6d275",
   "metadata": {},
   "source": [
    "**Drop the columns which we could see in the EDA notebook are not either important or having high correlation**"
   ]
  },
  {
   "cell_type": "code",
   "execution_count": 72,
   "id": "56611e69",
   "metadata": {},
   "outputs": [],
   "source": [
    "columns_to_drop = ['WETBULBTEMPF','DewPointTempF','StationPressure','Precip','DATE']\n",
    "\n",
    "df = df.drop(columns=columns_to_drop, axis=1)"
   ]
  },
  {
   "cell_type": "code",
   "execution_count": 73,
   "id": "ad6d547d",
   "metadata": {},
   "outputs": [
    {
     "data": {
      "text/html": [
       "<div>\n",
       "<style scoped>\n",
       "    .dataframe tbody tr th:only-of-type {\n",
       "        vertical-align: middle;\n",
       "    }\n",
       "\n",
       "    .dataframe tbody tr th {\n",
       "        vertical-align: top;\n",
       "    }\n",
       "\n",
       "    .dataframe thead th {\n",
       "        text-align: right;\n",
       "    }\n",
       "</style>\n",
       "<table border=\"1\" class=\"dataframe\">\n",
       "  <thead>\n",
       "    <tr style=\"text-align: right;\">\n",
       "      <th></th>\n",
       "      <th>VISIBILITY</th>\n",
       "      <th>DRYBULBTEMPF</th>\n",
       "      <th>RelativeHumidity</th>\n",
       "      <th>WindSpeed</th>\n",
       "      <th>WindDirection</th>\n",
       "      <th>SeaLevelPressure</th>\n",
       "    </tr>\n",
       "  </thead>\n",
       "  <tbody>\n",
       "    <tr>\n",
       "      <th>0</th>\n",
       "      <td>6.0</td>\n",
       "      <td>33</td>\n",
       "      <td>92</td>\n",
       "      <td>0</td>\n",
       "      <td>0</td>\n",
       "      <td>29.99</td>\n",
       "    </tr>\n",
       "    <tr>\n",
       "      <th>1</th>\n",
       "      <td>6.0</td>\n",
       "      <td>33</td>\n",
       "      <td>96</td>\n",
       "      <td>0</td>\n",
       "      <td>0</td>\n",
       "      <td>29.99</td>\n",
       "    </tr>\n",
       "    <tr>\n",
       "      <th>2</th>\n",
       "      <td>5.0</td>\n",
       "      <td>33</td>\n",
       "      <td>96</td>\n",
       "      <td>0</td>\n",
       "      <td>0</td>\n",
       "      <td>29.99</td>\n",
       "    </tr>\n",
       "    <tr>\n",
       "      <th>3</th>\n",
       "      <td>5.0</td>\n",
       "      <td>33</td>\n",
       "      <td>96</td>\n",
       "      <td>0</td>\n",
       "      <td>0</td>\n",
       "      <td>29.97</td>\n",
       "    </tr>\n",
       "    <tr>\n",
       "      <th>4</th>\n",
       "      <td>5.0</td>\n",
       "      <td>33</td>\n",
       "      <td>92</td>\n",
       "      <td>0</td>\n",
       "      <td>0</td>\n",
       "      <td>29.96</td>\n",
       "    </tr>\n",
       "  </tbody>\n",
       "</table>\n",
       "</div>"
      ],
      "text/plain": [
       "   VISIBILITY  DRYBULBTEMPF  RelativeHumidity  WindSpeed  WindDirection  \\\n",
       "0         6.0            33                92          0              0   \n",
       "1         6.0            33                96          0              0   \n",
       "2         5.0            33                96          0              0   \n",
       "3         5.0            33                96          0              0   \n",
       "4         5.0            33                92          0              0   \n",
       "\n",
       "   SeaLevelPressure  \n",
       "0             29.99  \n",
       "1             29.99  \n",
       "2             29.99  \n",
       "3             29.97  \n",
       "4             29.96  "
      ]
     },
     "execution_count": 73,
     "metadata": {},
     "output_type": "execute_result"
    }
   ],
   "source": [
    "#see the dataset now\n",
    "\n",
    "df.head()"
   ]
  },
  {
   "cell_type": "markdown",
   "id": "6d48a184",
   "metadata": {},
   "source": [
    "# Feature Engineering"
   ]
  },
  {
   "cell_type": "markdown",
   "id": "2b2b31e8",
   "metadata": {},
   "source": [
    "Feature engineering refers to manipulation — addition, deletion, combination, mutation — of your data set to improve machine learning model training, leading to better performance and greater accuracy. Effective feature engineering is based on sound knowledge of the business problem and the available data sources."
   ]
  },
  {
   "cell_type": "markdown",
   "id": "85df52e5",
   "metadata": {},
   "source": [
    "**Numeric Features**"
   ]
  },
  {
   "cell_type": "code",
   "execution_count": 74,
   "id": "baff199f",
   "metadata": {},
   "outputs": [
    {
     "name": "stdout",
     "output_type": "stream",
     "text": [
      "Num of Numerical Features : 6\n"
     ]
    }
   ],
   "source": [
    "num_features = [feature for feature in df.columns if df[feature].dtype != 'O']\n",
    "print('Num of Numerical Features :', len(num_features))"
   ]
  },
  {
   "cell_type": "markdown",
   "id": "e1107060",
   "metadata": {},
   "source": [
    "**Categorical Features**"
   ]
  },
  {
   "cell_type": "code",
   "execution_count": 75,
   "id": "ff997805",
   "metadata": {},
   "outputs": [
    {
     "name": "stdout",
     "output_type": "stream",
     "text": [
      "Num of Categorical Features : 0\n"
     ]
    }
   ],
   "source": [
    "cat_features = [feature for feature in df.columns if df[feature].dtype == 'O']\n",
    "print('Num of Categorical Features :', len(cat_features))"
   ]
  },
  {
   "cell_type": "markdown",
   "id": "3ca43676",
   "metadata": {},
   "source": [
    "**Discrete Features**"
   ]
  },
  {
   "cell_type": "code",
   "execution_count": 76,
   "id": "812ee6e0",
   "metadata": {},
   "outputs": [
    {
     "name": "stdout",
     "output_type": "stream",
     "text": [
      "Num of Discrete Features : 1 \n",
      "columns: ['VISIBILITY']\n"
     ]
    }
   ],
   "source": [
    "discrete_features=[feature for feature in num_features if len(df[feature].unique())<=25]\n",
    "print('Num of Discrete Features :',len(discrete_features),\"\\ncolumns:\", discrete_features)"
   ]
  },
  {
   "cell_type": "markdown",
   "id": "3e6740bf",
   "metadata": {},
   "source": [
    "**Continues Features**"
   ]
  },
  {
   "cell_type": "code",
   "execution_count": 77,
   "id": "e501c72b",
   "metadata": {},
   "outputs": [
    {
     "name": "stdout",
     "output_type": "stream",
     "text": [
      "Num of Continuous Features : 5\n"
     ]
    }
   ],
   "source": [
    "continuous_features=[feature for feature in num_features if feature not in discrete_features]\n",
    "print('Num of Continuous Features :',len(continuous_features))"
   ]
  },
  {
   "cell_type": "markdown",
   "id": "d234a954",
   "metadata": {},
   "source": [
    "### Check Outlier and Capping it"
   ]
  },
  {
   "cell_type": "markdown",
   "id": "29b1ab3b",
   "metadata": {},
   "source": [
    "**Why outliers?**\n",
    "* Data Entry error : Human error. \n",
    "* Measurement error: Instrument error. \n",
    "* Natural error: it will be Real life data.\n",
    "* Intentional error: People give wrong inputs\n",
    "\n",
    "**Impact of Outliers ?**\n",
    "* Ouliers can very high impact on few Machine learning models.\n",
    "* Can Cause bias in the output."
   ]
  },
  {
   "cell_type": "markdown",
   "id": "b2c78731",
   "metadata": {},
   "source": [
    "**Why IQR For Outlier Handling?**\n",
    "* For Skewed distributions: Use Inter-Quartile Range (IQR) proximity rule.\n",
    "\n",
    "* The data points which fall below Q1 – 1.5 IQR or above Q3 + 1.5 IQR are outliers.\n",
    "\n",
    "* where Q1 and Q3 are the 25th and 75th percentile of the dataset respectively, and IQR represents the inter-quartile range and given by Q3 – Q1."
   ]
  },
  {
   "cell_type": "code",
   "execution_count": 78,
   "id": "44909c4a",
   "metadata": {},
   "outputs": [
    {
     "data": {
      "text/plain": [
       "['DRYBULBTEMPF',\n",
       " 'RelativeHumidity',\n",
       " 'WindSpeed',\n",
       " 'WindDirection',\n",
       " 'SeaLevelPressure']"
      ]
     },
     "execution_count": 78,
     "metadata": {},
     "output_type": "execute_result"
    }
   ],
   "source": [
    "continuous_features"
   ]
  },
  {
   "cell_type": "markdown",
   "id": "b4cab561",
   "metadata": {},
   "source": [
    "## Outliers Detection"
   ]
  },
  {
   "cell_type": "code",
   "execution_count": 79,
   "id": "8e580ec1",
   "metadata": {},
   "outputs": [
    {
     "data": {
      "image/png": "[encoded data removed]",
      "text/plain": [
       "<Figure size 2500x1000 with 5 Axes>"
      ]
     },
     "metadata": {},
     "output_type": "display_data"
    }
   ],
   "source": [
    "cont_features = continuous_features.copy()\n",
    "plt.figure(figsize=(25, 10))\n",
    "\n",
    "for i in range(len(cont_features)):\n",
    "        plt.subplot(2,6,i+1)\n",
    "        sns.set_style('ticks')\n",
    "        plt.xlabel(cont_features[i])\n",
    "        ax = sns.boxplot(df[cont_features[i]])"
   ]
  },
  {
   "cell_type": "markdown",
   "id": "8376f708",
   "metadata": {},
   "source": [
    "**report**\n",
    "- We can see, there are no such outliers in `DRYBULBTEMPF`, `RelativeHumidity`, and `WindDirection` Columns\n",
    "- But there are outliers in  `WindSpeed`, ` SeaLevelPressure` following columns \n"
   ]
  },
  {
   "cell_type": "markdown",
   "id": "6770c24d",
   "metadata": {},
   "source": [
    "**Detecting Outlier and Capping it**"
   ]
  },
  {
   "cell_type": "code",
   "execution_count": 80,
   "id": "6ec840e1",
   "metadata": {},
   "outputs": [
    {
     "name": "stdout",
     "output_type": "stream",
     "text": [
      "\n",
      " #### DRYBULBTEMPF ####\n",
      "percentile25 42.0\n",
      "percentile75 70.0\n",
      "Upper limit 112.0\n",
      "Lower limit 0.0\n",
      "\n",
      " #### RelativeHumidity ####\n",
      "percentile25 49.0\n",
      "percentile75 82.0\n",
      "Upper limit 131.5\n",
      "Lower limit -0.5\n",
      "\n",
      " #### WindSpeed ####\n",
      "percentile25 7.0\n",
      "percentile75 15.0\n",
      "Upper limit 27.0\n",
      "Lower limit -5.0\n",
      "\n",
      " #### WindDirection ####\n",
      "percentile25 110.0\n",
      "percentile75 290.0\n",
      "Upper limit 560.0\n",
      "Lower limit -160.0\n",
      "\n",
      " #### SeaLevelPressure ####\n",
      "percentile25 29.88\n",
      "percentile75 30.17\n",
      "Upper limit 30.605000000000004\n",
      "Lower limit 29.444999999999993\n"
     ]
    }
   ],
   "source": [
    "def detect_outliers(col):\n",
    "    # Finding the IQR\n",
    "    percentile25 = df[col].quantile(0.25)\n",
    "    percentile75 = df[col].quantile(0.75)\n",
    "    print('\\n ####', col , '####')\n",
    "    print(\"percentile25\",percentile25)\n",
    "    print(\"percentile75\",percentile75)\n",
    "    iqr = percentile75 - percentile25\n",
    "    upper_limit = percentile75 + 1.5 * iqr\n",
    "    lower_limit = percentile25 - 1.5 * iqr\n",
    "    print(\"Upper limit\",upper_limit)\n",
    "    print(\"Lower limit\",lower_limit)\n",
    "    df.loc[(df[col]>upper_limit), col]= upper_limit\n",
    "    df.loc[(df[col]<lower_limit), col]= lower_limit    \n",
    "    return df\n",
    "\n",
    "\n",
    "\n",
    "\n",
    "for col in continuous_features:\n",
    "    detect_outliers(col=col)"
   ]
  },
  {
   "cell_type": "code",
   "execution_count": 81,
   "id": "f9ea8974",
   "metadata": {},
   "outputs": [
    {
     "data": {
      "image/png": "[encoded data removed]",
      "text/plain": [
       "<Figure size 2500x1000 with 5 Axes>"
      ]
     },
     "metadata": {},
     "output_type": "display_data"
    }
   ],
   "source": [
    "cont_features = continuous_features.copy()\n",
    "plt.figure(figsize=(25, 10))\n",
    "\n",
    "for i in range(len(cont_features)):\n",
    "        plt.subplot(2,6,i+1)\n",
    "        sns.set_style('ticks')\n",
    "        plt.xlabel(cont_features[i])\n",
    "        ax = sns.boxplot(df[cont_features[i]])"
   ]
  },
  {
   "cell_type": "markdown",
   "id": "b1ec524f",
   "metadata": {},
   "source": [
    "**Why are we capping it and why not trim it ?**\n",
    "* Trimming outliers may result in the removal of a large number of records from this dataset as we have already very less rows so this isn’t desirable in this case since columns other than the ones containing the outlier values may contain useful information.\n",
    "\n",
    "* In this cases, you can use outlier capping to replace the outlier values with a maximum or minimum capped values. Be warned, this manipulates our data but we can replace outlier values by the upper and lower limit calculated using the IQR range."
   ]
  },
  {
   "cell_type": "markdown",
   "id": "a890a255",
   "metadata": {},
   "source": [
    "**Checking Skewness after Outlier Capping**"
   ]
  },
  {
   "cell_type": "code",
   "execution_count": 82,
   "id": "4038a207",
   "metadata": {},
   "outputs": [
    {
     "data": {
      "text/plain": [
       "DRYBULBTEMPF       -0.149154\n",
       "RelativeHumidity   -0.186890\n",
       "WindSpeed           0.471627\n",
       "WindDirection      -0.335758\n",
       "SeaLevelPressure    0.005286\n",
       "dtype: float64"
      ]
     },
     "execution_count": 82,
     "metadata": {},
     "output_type": "execute_result"
    }
   ],
   "source": [
    "df[continuous_features].skew(axis=0, skipna=True)"
   ]
  },
  {
   "cell_type": "markdown",
   "id": "ca2d817d",
   "metadata": {},
   "source": [
    "## Feature Transformation"
   ]
  },
  {
   "cell_type": "markdown",
   "id": "c0aa9fa0",
   "metadata": {},
   "source": [
    "### Scaling \n",
    "- **What is Feature Scaling**\n",
    "    - Feature scaling is a method used to normalize the range of independent variables or features of data. In data processing, it is also known as data normalization and is generally performed during the data preprocessing step.\n",
    "- **Why we use feature scaling?**\n",
    "    - the feature scaling was implemented to prevent any skewness in the contour plot of the cost function which affects the gradient descent but the analytical solution using normal equation does not suffer from the same drawback."
   ]
  },
  {
   "cell_type": "markdown",
   "id": "13496691",
   "metadata": {},
   "source": [
    "- StandardScaler\n",
    "StandardScaler standardizes a feature by subtracting the mean and then scaling to unit variance. Unit variance means dividing all the values by the standard deviation.\n",
    "\n",
    "- PowerTransformer\n",
    "Power transforms are a family of parametric, monotonic transformations that are applied to make data more Gaussian-like. This is useful for modeling issues related to heteroscedasticity (non-constant variance), or other situations where normality is desired.\n",
    "\n",
    "- ColumnTransformer\n",
    "Applies transformers to columns of an array or pandas DataFrame. This estimator allows different columns or column subsets of the input to be transformed separately and the features generated by each transformer will be concatenated to form a single feature space.\n",
    "\n",
    "- SimpleImputer\n",
    "SimpleImputer is a scikit-learn class which is helpful in handling the missing data in the predictive model dataset. It replaces the NaN values with a specified placeholder.\n",
    "\n",
    "- Pipeline\n",
    "The purpose of the pipeline is to assemble several steps that can be cross-validated together while setting different parameters. For this, it enables setting parameters of the various steps using their names and the parameter name separated by a '__' ."
   ]
  },
  {
   "cell_type": "code",
   "execution_count": 83,
   "id": "aeee96bb",
   "metadata": {},
   "outputs": [],
   "source": [
    "numeric_features = [feature for feature in df.columns if df[feature].dtype != 'O']\n",
    "outlier_features = ['WindSpeed', 'SeaLevelPressure'] #we can find the columns which has oitliers in the EDA\n",
    "numeric_features = [x for x in numeric_features if x not in outlier_features]"
   ]
  },
  {
   "cell_type": "markdown",
   "id": "5a2cf140",
   "metadata": {},
   "source": [
    "### Model Building ( Clustering )\n",
    "\n",
    "We know that our dataset it unsupervised, that means we don't have such target column. So we will be using clustering algorithms first to cluster the dataset and create target levels out of it. \n",
    "\n",
    "- What is Clustering?\n",
    "> Using a clustering algorithm means you're going to give the algorithm a lot of input data with no labels and let it find any groupings in the data it can. Those groupings are called clusters. A cluster is a group of data points that are similar to each other based on their relation to surrounding data points.\n",
    "\n",
    "Here for Clustering Problem statement, 4 Algorithms are used.\n",
    "\n",
    "- K-Means Clustering\n",
    "- Agglomerative Clustering\n",
    "- Gaussian Mixture\n",
    "- DBSCAN"
   ]
  },
  {
   "cell_type": "markdown",
   "id": "1f579636",
   "metadata": {},
   "source": [
    "### Create a function for Silhouette score plot"
   ]
  },
  {
   "cell_type": "markdown",
   "id": "1c691c40",
   "metadata": {},
   "source": [
    "- **What is silhouette score**\n",
    "\n",
    "The silhouette value is a measure of how similar an object is to its o**wn cluster (cohesion) compared to other clusters (separation). The silhouette ranges from −1 to +1, where a high value indicates that the object is well matched to its own cluster and poorly matched to neighboring clusters."
   ]
  },
  {
   "cell_type": "markdown",
   "id": "2322c6f5",
   "metadata": {},
   "source": [
    "#### Elbow Method to find best Clusters for K-Means\n",
    "- In the Elbow method, we are actually varying the number of clusters ( K ) from 1 – 10. For each value of K, we are calculating WCSS ( Within-Cluster Sum of Square ). WCSS is the sum of squared distance between each point and the centroid in a cluster. When we plot the WCSS with the K value, the plot looks like an Elbow. As the number of clusters increases, the WCSS value will start to decrease. WCSS value is largest when K = 1. When we analyze the graph we can see that the graph will rapidly change at a point and thus creating an elbow shape."
   ]
  },
  {
   "cell_type": "code",
   "execution_count": 84,
   "id": "3b219da7",
   "metadata": {},
   "outputs": [
    {
     "data": {
      "image/png": "[encoded data removed]",
      "text/plain": [
       "<Figure size 1200x600 with 1 Axes>"
      ]
     },
     "metadata": {},
     "output_type": "display_data"
    }
   ],
   "source": [
    "from sklearn.cluster import KMeans\n",
    "\n",
    "\n",
    "wcss= {}\n",
    "sns.set()\n",
    "plt.figure(figsize=(12,6))\n",
    "for i in range(1,11): \n",
    "    km = KMeans(n_clusters=i)\n",
    "    km.fit(df)\n",
    "    wcss[i]=km.inertia_\n",
    "\n",
    "plt.plot(range(1,11),wcss.values(), marker='*')\n",
    "plt.title('Elbow Method-Finding Optimal k value', fontsize =20)\n",
    "plt.xlabel('K value (Num of Clusters)')\n",
    "plt.ylabel('WCSS')\n",
    "plt.show()"
   ]
  },
  {
   "cell_type": "markdown",
   "id": "32dbe1dc",
   "metadata": {},
   "source": [
    "- Here the optimum number of cluster is 3 cluster since it is the place where the graph start to flatten out meaning that having higher number of cluster will not yield a much more fitting machine."
   ]
  },
  {
   "cell_type": "markdown",
   "id": "b44d06b6",
   "metadata": {},
   "source": [
    "**Reports:**\n",
    "\n",
    "* We will use **k = 3**, thus there will be **three clusters** in our dataset.\n",
    "* We will use **KMeans Algorithm** for clustering."
   ]
  },
  {
   "cell_type": "markdown",
   "id": "6d117aad",
   "metadata": {},
   "source": [
    "### Apply Kmeans Clustering with 3 clusters"
   ]
  },
  {
   "cell_type": "code",
   "execution_count": 85,
   "id": "a782db94",
   "metadata": {},
   "outputs": [
    {
     "name": "stdout",
     "output_type": "stream",
     "text": [
      "The optimum number of clusters is: 3 . Exited the elbow_plot method of the KMeansClustering class\n",
      "no of clusters is 3\n"
     ]
    }
   ],
   "source": [
    "from kneed import KneeLocator\n",
    "\n",
    "def select_no_of_clusters(dataframe):\n",
    "\n",
    "    wcss=[] # initializing an empty list\n",
    "    try:\n",
    "        for i in range (1,11):\n",
    "            kmeans=KMeans(n_clusters=i,init='k-means++',random_state=42) # initializing the KMeans object\n",
    "            kmeans.fit(dataframe) # fitting the data to the KMeans Algorithm\n",
    "            wcss.append(kmeans.inertia_)\n",
    "        kn = KneeLocator(range(1, 11), wcss, curve='convex', direction='decreasing')\n",
    "        print('The optimum number of clusters is: '+str(kn.knee)+' . Exited the elbow_plot method of the KMeansClustering class')\n",
    "        return kn.knee\n",
    "    except Exception as e:\n",
    "        print(e)\n",
    "\n",
    "no_of_clusters = select_no_of_clusters(df)\n",
    "print(\"no of clusters is\", no_of_clusters)\n",
    "kmeans = KMeans(n_clusters=no_of_clusters)\n",
    "kmeans.fit(df)\n",
    "labels = kmeans.predict(df)\n",
    "df['Cluster'] = labels"
   ]
  },
  {
   "cell_type": "code",
   "execution_count": 86,
   "id": "be147d01",
   "metadata": {},
   "outputs": [
    {
     "data": {
      "text/plain": [
       "Cluster\n",
       "2    29121\n",
       "1    27022\n",
       "0    18940\n",
       "Name: count, dtype: int64"
      ]
     },
     "execution_count": 86,
     "metadata": {},
     "output_type": "execute_result"
    }
   ],
   "source": [
    "df['Cluster'].value_counts()"
   ]
  },
  {
   "cell_type": "code",
   "execution_count": 87,
   "id": "5cc8bb8c",
   "metadata": {},
   "outputs": [
    {
     "data": {
      "text/html": [
       "<div>\n",
       "<style scoped>\n",
       "    .dataframe tbody tr th:only-of-type {\n",
       "        vertical-align: middle;\n",
       "    }\n",
       "\n",
       "    .dataframe tbody tr th {\n",
       "        vertical-align: top;\n",
       "    }\n",
       "\n",
       "    .dataframe thead th {\n",
       "        text-align: right;\n",
       "    }\n",
       "</style>\n",
       "<table border=\"1\" class=\"dataframe\">\n",
       "  <thead>\n",
       "    <tr style=\"text-align: right;\">\n",
       "      <th></th>\n",
       "      <th>VISIBILITY</th>\n",
       "      <th>DRYBULBTEMPF</th>\n",
       "      <th>RelativeHumidity</th>\n",
       "      <th>WindSpeed</th>\n",
       "      <th>WindDirection</th>\n",
       "      <th>SeaLevelPressure</th>\n",
       "      <th>Cluster</th>\n",
       "    </tr>\n",
       "  </thead>\n",
       "  <tbody>\n",
       "    <tr>\n",
       "      <th>0</th>\n",
       "      <td>6.0</td>\n",
       "      <td>33</td>\n",
       "      <td>92.0</td>\n",
       "      <td>0</td>\n",
       "      <td>0</td>\n",
       "      <td>29.99</td>\n",
       "      <td>0</td>\n",
       "    </tr>\n",
       "    <tr>\n",
       "      <th>1</th>\n",
       "      <td>6.0</td>\n",
       "      <td>33</td>\n",
       "      <td>96.0</td>\n",
       "      <td>0</td>\n",
       "      <td>0</td>\n",
       "      <td>29.99</td>\n",
       "      <td>0</td>\n",
       "    </tr>\n",
       "    <tr>\n",
       "      <th>2</th>\n",
       "      <td>5.0</td>\n",
       "      <td>33</td>\n",
       "      <td>96.0</td>\n",
       "      <td>0</td>\n",
       "      <td>0</td>\n",
       "      <td>29.99</td>\n",
       "      <td>0</td>\n",
       "    </tr>\n",
       "    <tr>\n",
       "      <th>3</th>\n",
       "      <td>5.0</td>\n",
       "      <td>33</td>\n",
       "      <td>96.0</td>\n",
       "      <td>0</td>\n",
       "      <td>0</td>\n",
       "      <td>29.97</td>\n",
       "      <td>0</td>\n",
       "    </tr>\n",
       "    <tr>\n",
       "      <th>4</th>\n",
       "      <td>5.0</td>\n",
       "      <td>33</td>\n",
       "      <td>92.0</td>\n",
       "      <td>0</td>\n",
       "      <td>0</td>\n",
       "      <td>29.96</td>\n",
       "      <td>0</td>\n",
       "    </tr>\n",
       "  </tbody>\n",
       "</table>\n",
       "</div>"
      ],
      "text/plain": [
       "   VISIBILITY  DRYBULBTEMPF  RelativeHumidity  WindSpeed  WindDirection  \\\n",
       "0         6.0            33              92.0          0              0   \n",
       "1         6.0            33              96.0          0              0   \n",
       "2         5.0            33              96.0          0              0   \n",
       "3         5.0            33              96.0          0              0   \n",
       "4         5.0            33              92.0          0              0   \n",
       "\n",
       "   SeaLevelPressure  Cluster  \n",
       "0             29.99        0  \n",
       "1             29.99        0  \n",
       "2             29.99        0  \n",
       "3             29.97        0  \n",
       "4             29.96        0  "
      ]
     },
     "execution_count": 87,
     "metadata": {},
     "output_type": "execute_result"
    }
   ],
   "source": [
    "df.head()"
   ]
  },
  {
   "cell_type": "markdown",
   "id": "8ada038e",
   "metadata": {},
   "source": [
    "## Apply standardscaler"
   ]
  },
  {
   "cell_type": "code",
   "execution_count": 88,
   "id": "e33e19fb",
   "metadata": {},
   "outputs": [
    {
     "name": "stdout",
     "output_type": "stream",
     "text": [
      "       VISIBILITY  DRYBULBTEMPF  RelativeHumidity  WindSpeed  WindDirection  \\\n",
      "44960        10.0            22              60.0          0              0   \n",
      "64864        10.0            64              81.0          9            110   \n",
      "19393        10.0            46              89.0          6            210   \n",
      "30253        10.0            66              70.0         11            210   \n",
      "705          10.0            17              33.0         13            360   \n",
      "...           ...           ...               ...        ...            ...   \n",
      "69982        10.0            21              43.0         13            320   \n",
      "67533         6.0            71              96.0          5            180   \n",
      "20104        10.0            72              18.0         13            340   \n",
      "15545        10.0            73              51.0          7            260   \n",
      "49200        10.0            79              52.0         15            200   \n",
      "\n",
      "       SeaLevelPressure  Cluster  \n",
      "44960             29.95        0  \n",
      "64864             29.90        0  \n",
      "19393             30.22        2  \n",
      "30253             29.82        2  \n",
      "705               30.27        1  \n",
      "...                 ...      ...  \n",
      "69982             30.50        1  \n",
      "67533             30.11        2  \n",
      "20104             30.12        1  \n",
      "15545             30.15        1  \n",
      "49200             30.04        2  \n",
      "\n",
      "[60066 rows x 7 columns]\n"
     ]
    }
   ],
   "source": [
    "from sklearn.preprocessing import StandardScaler\n",
    "from sklearn.model_selection import train_test_split\n",
    "\n",
    "train_set, test_set = train_test_split(df, test_size=0.2)\n",
    "\n",
    "print(train_set)\n"
   ]
  },
  {
   "cell_type": "code",
   "execution_count": 89,
   "id": "fcc108d3",
   "metadata": {},
   "outputs": [],
   "source": [
    "from sklearn.preprocessing import StandardScaler\n",
    "from sklearn.model_selection import train_test_split\n",
    "\n",
    "train_set, test_set = train_test_split(df, test_size=0.2)\n",
    "\n",
    "\n",
    "\n",
    "X_train = train_set.drop(columns=['VISIBILITY', 'Cluster'])\n",
    "y_train = train_set[['VISIBILITY']]\n",
    "X_test = test_set.drop(columns=['VISIBILITY', 'Cluster'])\n",
    "y_test = test_set[['VISIBILITY']]\n",
    "\n",
    "preprocessor = StandardScaler()\n",
    "X_train = preprocessor.fit_transform(X_train)\n",
    "X_test = preprocessor.transform(X_test)"
   ]
  },
  {
   "cell_type": "code",
   "execution_count": 90,
   "id": "56e23c69",
   "metadata": {},
   "outputs": [
    {
     "name": "stderr",
     "output_type": "stream",
     "text": [
      "2025-07-31 18:12:32,520 - distributed.nanny - WARNING - Restarting worker\n",
      "2025-07-31 18:12:32,531 - distributed.nanny - WARNING - Restarting worker\n",
      "2025-07-31 18:12:32,538 - distributed.nanny - WARNING - Restarting worker\n",
      "2025-07-31 18:12:32,549 - distributed.nanny - WARNING - Restarting worker\n"
     ]
    },
    {
     "name": "stdout",
     "output_type": "stream",
     "text": [
      "linear_regression model is trained\n",
      "ridge_regression model is trained\n",
      "lasso_regression model is trained\n",
      "elasticnet model is trained\n",
      "decision_tree_regressor model is trained\n",
      "random_forest_regressor model is trained\n"
     ]
    },
    {
     "data": {
      "text/plain": [
       "[{'model_name': 'linear_regression', 'model_score': 0.2573455229803753},\n",
       " {'model_name': 'ridge_regression', 'model_score': 0.2573454126409873},\n",
       " {'model_name': 'lasso_regression', 'model_score': 0.008267339890247083},\n",
       " {'model_name': 'elasticnet', 'model_score': 0.12262170884703627},\n",
       " {'model_name': 'decision_tree_regressor', 'model_score': 0.29417714211899637},\n",
       " {'model_name': 'random_forest_regressor', 'model_score': 0.6208544761047488}]"
      ]
     },
     "execution_count": 90,
     "metadata": {},
     "output_type": "execute_result"
    }
   ],
   "source": [
    "import dask.distributed as distributed\n",
    "\n",
    "cluster = distributed.LocalCluster()\n",
    "client = distributed.Client(cluster)\n",
    "client.restart()\n",
    "\n",
    "\n",
    "\n",
    "#let's import the models\n",
    "from sklearn.linear_model import LinearRegression, Ridge, Lasso, ElasticNet\n",
    "#from xgboost.sklearn import XGBRegressor\n",
    "from sklearn.tree import DecisionTreeRegressor\n",
    "from sklearn.ensemble import RandomForestRegressor\n",
    "from sklearn.svm import SVR\n",
    "from sklearn.metrics import r2_score\n",
    "\n",
    "\n",
    "\n",
    "models = {}\n",
    "models['linear_regression'] = LinearRegression()\n",
    "models['ridge_regression'] = Ridge()\n",
    "models['lasso_regression'] = Lasso()\n",
    "models['elasticnet'] = ElasticNet()\n",
    "models['decision_tree_regressor'] = DecisionTreeRegressor()\n",
    "models['random_forest_regressor'] = RandomForestRegressor()\n",
    "\n",
    "def select_best_model(models = models, x_train = X_train, y_train = y_train, x_test = X_test, y_test = y_test):\n",
    "    \n",
    "    models_details = []\n",
    "    for model_name, model in models.items():\n",
    "        model_detail = {}\n",
    "        model.fit(x_train, y_train)\n",
    "        y_pred = model.predict(x_test)\n",
    "        model_score = r2_score(y_test, y_pred)\n",
    "        model_detail['model_name'] = model_name\n",
    "        model_detail['model_score'] = model_score\n",
    "        print(\"%s model is trained\" % model_name)\n",
    "\n",
    "        models_details.append(model_detail)\n",
    "\n",
    "    return models_details\n",
    "\n",
    "\n",
    "models_details = select_best_model()\n",
    "models_details\n",
    "        \n",
    "\n",
    "\n"
   ]
  },
  {
   "cell_type": "markdown",
   "id": "2c60ac38",
   "metadata": {},
   "source": [
    "**As seen, we will continue our model training with randomforest regressir**"
   ]
  },
  {
   "cell_type": "markdown",
   "id": "bd0f96e3",
   "metadata": {},
   "source": [
    "# Read model.yml file to get randomforest params"
   ]
  },
  {
   "cell_type": "code",
   "execution_count": 92,
   "id": "444d9cca",
   "metadata": {},
   "outputs": [],
   "source": [
    "rf_grid = {'n_estimators': [10, 20, 50, 100, 130],\n",
    " 'max_depth': [10, 20, 30, 40, 50],\n",
    " 'max_features': ['auto', 'sqrt'],\n",
    " 'min_samples_split': [2, 6, 10],\n",
    " 'bootstrap': [True, False]}"
   ]
  },
  {
   "cell_type": "markdown",
   "id": "eb7bf971",
   "metadata": {},
   "source": [
    "# let's start CV operation on top of randomforest"
   ]
  },
  {
   "cell_type": "code",
   "execution_count": 96,
   "id": "54368ff7",
   "metadata": {},
   "outputs": [
    {
     "name": "stdout",
     "output_type": "stream",
     "text": [
      "Fitting 2 folds for each of 300 candidates, totalling 600 fits\n"
     ]
    }
   ],
   "source": [
    "from sklearn.model_selection import GridSearchCV\n",
    "import joblib\n",
    "\n",
    "with joblib.parallel_backend('dask'):\n",
    "    model_grid = GridSearchCV(\n",
    "        RandomForestRegressor(), rf_grid, \n",
    "        cv = 2,\n",
    "        n_jobs = -1 ,\n",
    "        verbose=3 )\n",
    "    model_grid.fit(X_train,y_train)\n"
   ]
  },
  {
   "cell_type": "markdown",
   "id": "9effd90b",
   "metadata": {},
   "source": [
    "## Best params for randomforest"
   ]
  },
  {
   "cell_type": "code",
   "execution_count": 97,
   "id": "c6efc818",
   "metadata": {},
   "outputs": [],
   "source": [
    "best_params = model_grid.best_params_\n",
    "rf_model = RandomForestRegressor(**best_params)"
   ]
  },
  {
   "cell_type": "markdown",
   "id": "d5b5366a",
   "metadata": {},
   "source": [
    "## Let's train our model"
   ]
  },
  {
   "cell_type": "code",
   "execution_count": 98,
   "id": "b337a144",
   "metadata": {},
   "outputs": [
    {
     "name": "stdout",
     "output_type": "stream",
     "text": [
      "[[ 0.00772192 -0.10584377 -1.56234183 -0.93503352 -0.80841522]\n",
      " [-1.27258863 -0.04616925 -0.9547408   0.82706704 -0.56579597]\n",
      " [ 1.15326294 -1.47835775  1.27312961  1.12075046 -0.12908131]\n",
      " ...\n",
      " [ 0.95110864 -0.58323994  0.66552859 -0.64135009  0.11353794]\n",
      " [-0.86828003 -0.88161254  1.47566329 -0.05398324  1.27811036]\n",
      " [-0.66612573 -0.34454185  0.86806226  1.41443389  0.21058565]]        VISIBILITY\n",
      "64768        10.0\n",
      "8795         10.0\n",
      "73563        10.0\n",
      "50549        10.0\n",
      "27683         1.0\n",
      "...           ...\n",
      "65666        10.0\n",
      "54117        10.0\n",
      "22119        10.0\n",
      "72753        10.0\n",
      "54286        10.0\n",
      "\n",
      "[23317 rows x 1 columns] [[-0.26181714  0.90862309 -0.9547408  -2.10976722 -0.12908131]\n",
      " [ 1.35541724  0.13285431 -0.54967346  1.12075046  0.11353794]\n",
      " [-1.00304956  1.44569377 -0.75220713 -1.52240037 -2.07003534]\n",
      " ...\n",
      " [ 0.74895435  0.61025048  1.27312961 -0.34766666  0.2591095 ]\n",
      " [ 0.20987622 -1.0606361  -0.34713978 -0.64135009  0.01649024]\n",
      " [-1.00304956  1.26667021  0.86806226  1.41443389 -2.77363117]]        VISIBILITY\n",
      "20532       10.00\n",
      "74447       10.00\n",
      "37383        0.25\n",
      "49910       10.00\n",
      "41880       10.00\n",
      "...           ...\n",
      "30013       10.00\n",
      "30771       10.00\n",
      "57211       10.00\n",
      "65048       10.00\n",
      "35319       10.00\n",
      "\n",
      "[5804 rows x 1 columns]\n",
      "[[-0.95449586 -0.58278686 -0.84487455  0.66413866  2.18305703]\n",
      " [-1.0647866  -1.26197693  0.71136594 -0.90399876  0.02531474]\n",
      " [ 0.42413846  0.43599823 -1.53653698  0.97776615  0.74456217]\n",
      " ...\n",
      " [ 1.30646442  1.34158498 -0.84487455 -1.53125373  0.32147544]\n",
      " [-0.40304213  1.51138249 -0.49904333  0.97776615 -1.24394543]\n",
      " [ 0.09326622  0.0964032  -0.84487455  0.66413866  0.15224075]]        VISIBILITY\n",
      "26936        10.0\n",
      "42771        10.0\n",
      "63341        10.0\n",
      "45768        10.0\n",
      "36519        10.0\n",
      "...           ...\n",
      "269          10.0\n",
      "43375        10.0\n",
      "31840        10.0\n",
      "28162        10.0\n",
      "42318        10.0\n",
      "\n",
      "[21615 rows x 1 columns] [[-0.89935049  0.4925974  -0.15321211  0.03688369  0.02531474]\n",
      " [-0.23760601  0.43599823  1.57594398  1.60502112  0.2368581 ]\n",
      " [ 1.36160979  1.34158498 -0.49904333  1.29139363 -0.44008066]\n",
      " ...\n",
      " [ 0.75501069  1.17178746 -0.49904333  0.66413866  0.49071013]\n",
      " [-1.45080421  0.60579574 -1.01779015 -1.84488121 -0.48238933]\n",
      " [-0.89935049  0.77559326  1.40302837 -1.53125373 -2.13242755]]        VISIBILITY\n",
      "27819        10.0\n",
      "71579        10.0\n",
      "48372        10.0\n",
      "5614         10.0\n",
      "3794         10.0\n",
      "...           ...\n",
      "68941        10.0\n",
      "44953        10.0\n",
      "59443        10.0\n",
      "35670         8.0\n",
      "8155         10.0\n",
      "\n",
      "[5407 rows x 1 columns]\n",
      "[[-1.50126483 -0.60732398 -0.53418126  1.90688217  0.21763933]\n",
      " [-0.77948638 -0.06385589 -0.53418126 -0.3838588   1.32613766]\n",
      " [-0.97633505  0.75134626  1.30433703  0.47516906 -1.27456997]\n",
      " ...\n",
      " [ 1.64831385 -1.09644527  0.80292295 -0.95654404 -0.76295535]\n",
      " [-0.51702149  1.13177393 -0.53418126  1.90688217 -1.01876266]\n",
      " [-1.04195127  0.75134626  0.80292295 -0.09751618  0.8571576 ]]        VISIBILITY\n",
      "9011         10.0\n",
      "68924        10.0\n",
      "1284          4.0\n",
      "68929        10.0\n",
      "49406        10.0\n",
      "...           ...\n",
      "16450        10.0\n",
      "67940        10.0\n",
      "14221        10.0\n",
      "45837         0.5\n",
      "46169         7.0\n",
      "\n",
      "[15134 rows x 1 columns] [[ 1.5170814  -1.36817932  0.4686469  -0.3838588  -0.59241715]\n",
      " [-0.84510261  0.75134626 -0.36704324 -0.3838588  -0.67768625]\n",
      " [-1.30441616  0.53395902 -0.86845732 -0.3838588   0.64398484]\n",
      " ...\n",
      " [ 0.72968673  0.31657178 -1.3698714  -1.24288666 -0.03816798]\n",
      " [ 0.86091918 -0.22689631  0.13437085  1.33419693 -0.84822445]\n",
      " [ 1.71393007 -0.28124312 -0.36704324  0.47516906 -0.33660984]]        VISIBILITY\n",
      "48237        10.0\n",
      "62237         6.0\n",
      "18124        10.0\n",
      "38634        10.0\n",
      "11275        10.0\n",
      "...           ...\n",
      "50491        10.0\n",
      "29324        10.0\n",
      "32921        10.0\n",
      "12700        10.0\n",
      "14769        10.0\n",
      "\n",
      "[3806 rows x 1 columns]\n"
     ]
    }
   ],
   "source": [
    "\n",
    "def train_model():\n",
    "    models = {}\n",
    "    preprocessor = StandardScaler()\n",
    "    list_of_clusters:list = train_set['Cluster'].unique()\n",
    "    model = []\n",
    "    for cluster_no in list_of_clusters:\n",
    "        train_set_cluster = train_set[train_set['Cluster'] == cluster_no]\n",
    "        test_set_cluster = test_set[test_set['Cluster'] == cluster_no]\n",
    "\n",
    "        X_train = train_set_cluster.drop(columns = ['VISIBILITY', 'Cluster'])\n",
    "        X_test = test_set_cluster.drop(columns = ['VISIBILITY', 'Cluster'])\n",
    "        \n",
    "        X_train = preprocessor.fit_transform(X_train)\n",
    "        X_test = preprocessor.transform(X_test)\n",
    "        \n",
    "        y_train = train_set_cluster[['VISIBILITY']]\n",
    "        y_test = test_set_cluster[['VISIBILITY']]\n",
    "    #     print(f\"Training on cluster_no {cluster_no}\")\n",
    "    #     model = rf_model\n",
    "        \n",
    "    #     model.fit(X_train, y_train)\n",
    "    #     y_pred = model.predict(X_test)\n",
    "        \n",
    "    #     score = r2_score(y_test,y_pred)\n",
    "    #     print(f\"score for cluster no {cluster_no} is: {score}\")\n",
    "        \n",
    "    #     models[f\"model_{cluster_no}\"] = model\n",
    "    # return models\n",
    "\n",
    "        print(X_train, y_train, X_test, y_test)\n",
    "        \n",
    "        \n",
    "models = train_model()"
   ]
  },
  {
   "cell_type": "code",
   "execution_count": 99,
   "id": "36d426bb",
   "metadata": {},
   "outputs": [],
   "source": [
    "models"
   ]
  },
  {
   "cell_type": "markdown",
   "id": "cda467ac",
   "metadata": {},
   "source": [
    "### Final report\n",
    "- As we got the EDA results, we used that same approaches here also. We dropped some features to avoid multicollinearity\n",
    "- The data had outliers and multicollinearity, We created methods to handle those things\n",
    "- Kmeans Clustering algorithm we have applied and amongst many ml models, randomforest performed well."
   ]
  }
 ],
 "metadata": {
  "kernelspec": {
   "display_name": "Python 3",
   "language": "python",
   "name": "python3"
  },
  "language_info": {
   "codemirror_mode": {
    "name": "ipython",
    "version": 3
   },
   "file_extension": ".py",
   "mimetype": "text/x-python",
   "name": "python",
   "nbconvert_exporter": "python",
   "pygments_lexer": "ipython3",
   "version": "3.13.1"
  }
 },
 "nbformat": 4,
 "nbformat_minor": 5
}
